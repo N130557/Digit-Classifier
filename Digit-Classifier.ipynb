{
  "nbformat": 4,
  "nbformat_minor": 0,
  "metadata": {
    "colab": {
      "name": "practice_assign2.ipynb",
      "version": "0.3.2",
      "provenance": [],
      "collapsed_sections": []
    },
    "kernelspec": {
      "name": "python3",
      "display_name": "Python 3"
    }
  },
  "cells": [
    {
      "metadata": {
        "id": "MZCQDYwKaK5n",
        "colab_type": "text"
      },
      "cell_type": "markdown",
      "source": [
        "### Hello sir, this is my Classifier which i have developed  for assignment purpose to shown you .So, In this I have Used Premade Estimator for Deep-Neural -Network Classifier for Digit Classification. "
      ]
    },
    {
      "metadata": {
        "id": "wSnizZDibWY7",
        "colab_type": "text"
      },
      "cell_type": "markdown",
      "source": [
        "## Here i am Installing necessary **packages** to run my code smothly. "
      ]
    },
    {
      "metadata": {
        "id": "UKkVk-XgaD8R",
        "colab_type": "code",
        "outputId": "673aadc4-4b39-4d4b-c748-79c711e8f5e5",
        "colab": {
          "base_uri": "https://localhost:8080/",
          "height": 377
        }
      },
      "cell_type": "code",
      "source": [
        "!pip install tensorflow "
      ],
      "execution_count": 0,
      "outputs": [
        {
          "output_type": "stream",
          "text": [
            "Requirement already satisfied: tensorflow in /usr/local/lib/python3.6/dist-packages (1.13.1)\n",
            "Requirement already satisfied: termcolor>=1.1.0 in /usr/local/lib/python3.6/dist-packages (from tensorflow) (1.1.0)\n",
            "Requirement already satisfied: wheel>=0.26 in /usr/local/lib/python3.6/dist-packages (from tensorflow) (0.33.1)\n",
            "Requirement already satisfied: tensorflow-estimator<1.14.0rc0,>=1.13.0 in /usr/local/lib/python3.6/dist-packages (from tensorflow) (1.13.0)\n",
            "Requirement already satisfied: absl-py>=0.1.6 in /usr/local/lib/python3.6/dist-packages (from tensorflow) (0.7.0)\n",
            "Requirement already satisfied: gast>=0.2.0 in /usr/local/lib/python3.6/dist-packages (from tensorflow) (0.2.2)\n",
            "Requirement already satisfied: keras-applications>=1.0.6 in /usr/local/lib/python3.6/dist-packages (from tensorflow) (1.0.7)\n",
            "Requirement already satisfied: protobuf>=3.6.1 in /usr/local/lib/python3.6/dist-packages (from tensorflow) (3.6.1)\n",
            "Requirement already satisfied: astor>=0.6.0 in /usr/local/lib/python3.6/dist-packages (from tensorflow) (0.7.1)\n",
            "Requirement already satisfied: numpy>=1.13.3 in /usr/local/lib/python3.6/dist-packages (from tensorflow) (1.14.6)\n",
            "Requirement already satisfied: keras-preprocessing>=1.0.5 in /usr/local/lib/python3.6/dist-packages (from tensorflow) (1.0.9)\n",
            "Requirement already satisfied: tensorboard<1.14.0,>=1.13.0 in /usr/local/lib/python3.6/dist-packages (from tensorflow) (1.13.0)\n",
            "Requirement already satisfied: six>=1.10.0 in /usr/local/lib/python3.6/dist-packages (from tensorflow) (1.11.0)\n",
            "Requirement already satisfied: grpcio>=1.8.6 in /usr/local/lib/python3.6/dist-packages (from tensorflow) (1.15.0)\n",
            "Requirement already satisfied: mock>=2.0.0 in /usr/local/lib/python3.6/dist-packages (from tensorflow-estimator<1.14.0rc0,>=1.13.0->tensorflow) (2.0.0)\n",
            "Requirement already satisfied: h5py in /usr/local/lib/python3.6/dist-packages (from keras-applications>=1.0.6->tensorflow) (2.8.0)\n",
            "Requirement already satisfied: setuptools in /usr/local/lib/python3.6/dist-packages (from protobuf>=3.6.1->tensorflow) (40.8.0)\n",
            "Requirement already satisfied: markdown>=2.6.8 in /usr/local/lib/python3.6/dist-packages (from tensorboard<1.14.0,>=1.13.0->tensorflow) (3.0.1)\n",
            "Requirement already satisfied: werkzeug>=0.11.15 in /usr/local/lib/python3.6/dist-packages (from tensorboard<1.14.0,>=1.13.0->tensorflow) (0.14.1)\n",
            "Requirement already satisfied: pbr>=0.11 in /usr/local/lib/python3.6/dist-packages (from mock>=2.0.0->tensorflow-estimator<1.14.0rc0,>=1.13.0->tensorflow) (5.1.3)\n"
          ],
          "name": "stdout"
        }
      ]
    },
    {
      "metadata": {
        "id": "D5rgwK8Eb6hj",
        "colab_type": "code",
        "outputId": "8d0f31ac-18fd-4e4d-a0bd-b6778ed8700b",
        "colab": {
          "base_uri": "https://localhost:8080/",
          "height": 102
        }
      },
      "cell_type": "code",
      "source": [
        "!pip install pandas"
      ],
      "execution_count": 0,
      "outputs": [
        {
          "output_type": "stream",
          "text": [
            "Requirement already satisfied: pandas in /usr/local/lib/python3.6/dist-packages (0.22.0)\n",
            "Requirement already satisfied: python-dateutil>=2 in /usr/local/lib/python3.6/dist-packages (from pandas) (2.5.3)\n",
            "Requirement already satisfied: numpy>=1.9.0 in /usr/local/lib/python3.6/dist-packages (from pandas) (1.14.6)\n",
            "Requirement already satisfied: pytz>=2011k in /usr/local/lib/python3.6/dist-packages (from pandas) (2018.9)\n",
            "Requirement already satisfied: six>=1.5 in /usr/local/lib/python3.6/dist-packages (from python-dateutil>=2->pandas) (1.11.0)\n"
          ],
          "name": "stdout"
        }
      ]
    },
    {
      "metadata": {
        "id": "fKwmTx6iZ49n",
        "colab_type": "code",
        "outputId": "b20145cb-dbb7-4e39-cb2e-eca956366279",
        "colab": {
          "base_uri": "https://localhost:8080/",
          "height": 34
        }
      },
      "cell_type": "code",
      "source": [
        "!pip install numpy"
      ],
      "execution_count": 0,
      "outputs": [
        {
          "output_type": "stream",
          "text": [
            "Requirement already satisfied: numpy in /usr/local/lib/python3.6/dist-packages (1.14.6)\n"
          ],
          "name": "stdout"
        }
      ]
    },
    {
      "metadata": {
        "id": "KNaSP4XJZ5AC",
        "colab_type": "code",
        "outputId": "bc5e1300-e537-48a3-db3c-fed925c6f2cf",
        "colab": {
          "base_uri": "https://localhost:8080/",
          "height": 153
        }
      },
      "cell_type": "code",
      "source": [
        "!pip install matplotlib"
      ],
      "execution_count": 0,
      "outputs": [
        {
          "output_type": "stream",
          "text": [
            "Requirement already satisfied: matplotlib in /usr/local/lib/python3.6/dist-packages (3.0.3)\n",
            "Requirement already satisfied: python-dateutil>=2.1 in /usr/local/lib/python3.6/dist-packages (from matplotlib) (2.5.3)\n",
            "Requirement already satisfied: numpy>=1.10.0 in /usr/local/lib/python3.6/dist-packages (from matplotlib) (1.14.6)\n",
            "Requirement already satisfied: cycler>=0.10 in /usr/local/lib/python3.6/dist-packages (from matplotlib) (0.10.0)\n",
            "Requirement already satisfied: kiwisolver>=1.0.1 in /usr/local/lib/python3.6/dist-packages (from matplotlib) (1.0.1)\n",
            "Requirement already satisfied: pyparsing!=2.0.4,!=2.1.2,!=2.1.6,>=2.0.1 in /usr/local/lib/python3.6/dist-packages (from matplotlib) (2.3.1)\n",
            "Requirement already satisfied: six>=1.5 in /usr/local/lib/python3.6/dist-packages (from python-dateutil>=2.1->matplotlib) (1.11.0)\n",
            "Requirement already satisfied: setuptools in /usr/local/lib/python3.6/dist-packages (from kiwisolver>=1.0.1->matplotlib) (40.8.0)\n"
          ],
          "name": "stdout"
        }
      ]
    },
    {
      "metadata": {
        "id": "rLoYUwnTcwQt",
        "colab_type": "text"
      },
      "cell_type": "markdown",
      "source": [
        "## Now Import those Packages"
      ]
    },
    {
      "metadata": {
        "id": "DsSWguttZ5Cv",
        "colab_type": "code",
        "colab": {}
      },
      "cell_type": "code",
      "source": [
        "import tensorflow as tf\n",
        "import numpy as np\n",
        "import pandas as pd\n",
        "import matplotlib.pyplot as plt"
      ],
      "execution_count": 0,
      "outputs": []
    },
    {
      "metadata": {
        "id": "VSlnY01oc_4w",
        "colab_type": "text"
      },
      "cell_type": "markdown",
      "source": [
        "## Now Load the data from MNIST Folder or URL"
      ]
    },
    {
      "metadata": {
        "id": "hXsbjk6MZ5FD",
        "colab_type": "code",
        "colab": {}
      },
      "cell_type": "code",
      "source": [
        "from tensorflow.examples.tutorials.mnist import input_data"
      ],
      "execution_count": 0,
      "outputs": []
    },
    {
      "metadata": {
        "id": "_4Du-OfIZ5Hd",
        "colab_type": "code",
        "outputId": "ad3882cc-5626-4392-aaeb-60f6c8d312a9",
        "colab": {
          "base_uri": "https://localhost:8080/",
          "height": 85
        }
      },
      "cell_type": "code",
      "source": [
        "mnist = input_data.read_data_sets('MNIST_data', one_hot=True)"
      ],
      "execution_count": 0,
      "outputs": [
        {
          "output_type": "stream",
          "text": [
            "Extracting MNIST_data/train-images-idx3-ubyte.gz\n",
            "Extracting MNIST_data/train-labels-idx1-ubyte.gz\n",
            "Extracting MNIST_data/t10k-images-idx3-ubyte.gz\n",
            "Extracting MNIST_data/t10k-labels-idx1-ubyte.gz\n"
          ],
          "name": "stdout"
        }
      ]
    },
    {
      "metadata": {
        "id": "HhwiZjB0i_sz",
        "colab_type": "text"
      },
      "cell_type": "markdown",
      "source": [
        "### we have successfully imported MNIST Data-set"
      ]
    },
    {
      "metadata": {
        "id": "OXen2T1_i2UL",
        "colab_type": "code",
        "colab": {}
      },
      "cell_type": "code",
      "source": [
        "mnist.train.cls = np.argmax(mnist.train.labels, axis=1)"
      ],
      "execution_count": 0,
      "outputs": []
    },
    {
      "metadata": {
        "id": "SSN7RMeH9m66",
        "colab_type": "code",
        "outputId": "97757212-bd88-4fac-ff8b-5dc847207e35",
        "colab": {
          "base_uri": "https://localhost:8080/",
          "height": 34
        }
      },
      "cell_type": "code",
      "source": [
        "a=np.random.randint(1,20,10)\n",
        "b=a.reshape(2,5)\n",
        "res=np.argmax(b)\n",
        "res\n"
      ],
      "execution_count": 0,
      "outputs": [
        {
          "output_type": "execute_result",
          "data": {
            "text/plain": [
              "2"
            ]
          },
          "metadata": {
            "tags": []
          },
          "execution_count": 54
        }
      ]
    },
    {
      "metadata": {
        "id": "rNCfU8pnjhn4",
        "colab_type": "text"
      },
      "cell_type": "markdown",
      "source": [
        "### Here i am going to show how many classes(Labels in our Data-Set)"
      ]
    },
    {
      "metadata": {
        "id": "DTkgSoedi2XI",
        "colab_type": "code",
        "outputId": "67f101a4-4489-4850-8a65-6c0385e69628",
        "colab": {
          "base_uri": "https://localhost:8080/",
          "height": 187
        }
      },
      "cell_type": "code",
      "source": [
        "list1=[]\n",
        "for i in mnist.train.cls:\n",
        "  if i not in list1:\n",
        "    list1.append(i)\n",
        "for i in list1:\n",
        "  print(i)"
      ],
      "execution_count": 0,
      "outputs": [
        {
          "output_type": "stream",
          "text": [
            "7\n",
            "3\n",
            "4\n",
            "6\n",
            "1\n",
            "8\n",
            "0\n",
            "9\n",
            "2\n",
            "5\n"
          ],
          "name": "stdout"
        }
      ]
    },
    {
      "metadata": {
        "id": "JlK0JEiDkOL-",
        "colab_type": "text"
      },
      "cell_type": "markdown",
      "source": [
        "### There we have found  0 - 9 labels  means we have digits from 0 to 9 for both test set and train set"
      ]
    },
    {
      "metadata": {
        "id": "vAJFULlPkL4J",
        "colab_type": "code",
        "outputId": "5e74b230-229d-4345-9d4b-3b3a8d0bfae7",
        "colab": {
          "base_uri": "https://localhost:8080/",
          "height": 34
        }
      },
      "cell_type": "code",
      "source": [
        "mnist.test.cls = np.argmax(mnist.test.labels, axis=1)\n",
        "set(mnist.test.cls)"
      ],
      "execution_count": 0,
      "outputs": [
        {
          "output_type": "execute_result",
          "data": {
            "text/plain": [
              "{0, 1, 2, 3, 4, 5, 6, 7, 8, 9}"
            ]
          },
          "metadata": {
            "tags": []
          },
          "execution_count": 8
        }
      ]
    },
    {
      "metadata": {
        "id": "4TCrbFTSkq1N",
        "colab_type": "code",
        "colab": {}
      },
      "cell_type": "code",
      "source": [
        ""
      ],
      "execution_count": 0,
      "outputs": []
    },
    {
      "metadata": {
        "id": "M0-Zq90Zkq7O",
        "colab_type": "code",
        "colab": {}
      },
      "cell_type": "code",
      "source": [
        "# We know that MNIST images are 28 pixels in each dimension.\n",
        "img_size = 28\n",
        "\n",
        "# Images are stored in one-dimensional arrays of this length.\n",
        "img_size_flat = img_size * img_size\n",
        "\n",
        "# Tuple with height and width of images used to reshape arrays.\n",
        "img_shape = (img_size, img_size)\n",
        "\n",
        "# Number of colour channels for the images: 1 channel for gray-scale.\n",
        "num_channels = 1\n",
        "\n",
        "# Number of classes, one class for each of 10 digits.\n",
        "num_classes = 10"
      ],
      "execution_count": 0,
      "outputs": []
    },
    {
      "metadata": {
        "id": "G56IHfl1mD8V",
        "colab_type": "text"
      },
      "cell_type": "markdown",
      "source": [
        "## Before we are using premade estimator we must define the Input Function for Training set to give link to premade estimator......! input function can be defined by either Numpy or Pandas.here i am using numpy function."
      ]
    },
    {
      "metadata": {
        "id": "IEe7KQLbkq9v",
        "colab_type": "code",
        "colab": {}
      },
      "cell_type": "code",
      "source": [
        "# defining training input function here\n",
        "\n",
        "train_input_fn = tf.estimator.inputs.numpy_input_fn(\n",
        "    \n",
        "    x={\"x\": np.array(mnist.train.images)},\n",
        "    \n",
        "    y=np.array(mnist.train.cls),\n",
        "    \n",
        "    num_epochs=None,\n",
        "    \n",
        "    shuffle=True)"
      ],
      "execution_count": 0,
      "outputs": []
    },
    {
      "metadata": {
        "id": "XUpAK38_kIEp",
        "colab_type": "code",
        "outputId": "8b820737-23c6-4367-dc89-e79eeb37bf41",
        "colab": {
          "base_uri": "https://localhost:8080/",
          "height": 34
        }
      },
      "cell_type": "code",
      "source": [
        "train_input_fn"
      ],
      "execution_count": 0,
      "outputs": [
        {
          "output_type": "execute_result",
          "data": {
            "text/plain": [
              "<function tensorflow_estimator.python.estimator.inputs.numpy_io.numpy_input_fn.<locals>.input_fn>"
            ]
          },
          "metadata": {
            "tags": []
          },
          "execution_count": 12
        }
      ]
    },
    {
      "metadata": {
        "id": "YaKf9qVbuN_y",
        "colab_type": "text"
      },
      "cell_type": "markdown",
      "source": [
        "### Defining features of X"
      ]
    },
    {
      "metadata": {
        "id": "QZM2oRMwl_LX",
        "colab_type": "code",
        "colab": {}
      },
      "cell_type": "code",
      "source": [
        "feature_x = tf.feature_column.numeric_column(\"x\", shape=img_shape)"
      ],
      "execution_count": 0,
      "outputs": []
    },
    {
      "metadata": {
        "id": "tXa_3-oFJWar",
        "colab_type": "code",
        "colab": {}
      },
      "cell_type": "code",
      "source": [
        "feature_columns = [feature_x]"
      ],
      "execution_count": 0,
      "outputs": []
    },
    {
      "metadata": {
        "id": "BclNLMxcuTxa",
        "colab_type": "text"
      },
      "cell_type": "markdown",
      "source": [
        "### how many hidden layers we want to implement"
      ]
    },
    {
      "metadata": {
        "id": "lRIdqjAXJWdo",
        "colab_type": "code",
        "colab": {}
      },
      "cell_type": "code",
      "source": [
        "num_hidden_units = [512, 256, 128]"
      ],
      "execution_count": 0,
      "outputs": []
    },
    {
      "metadata": {
        "id": "gbu9M4Zhuezv",
        "colab_type": "text"
      },
      "cell_type": "markdown",
      "source": [
        "### just creating path on google colab here i am writing this code snippet .if you are running in local system/laptop you remove this snippet of code."
      ]
    },
    {
      "metadata": {
        "id": "PljK_SK8JWnX",
        "colab_type": "code",
        "colab": {}
      },
      "cell_type": "code",
      "source": [
        "from google.colab import drive"
      ],
      "execution_count": 0,
      "outputs": []
    },
    {
      "metadata": {
        "id": "BEagjMgpl_N7",
        "colab_type": "code",
        "outputId": "eb179631-587f-4782-f5e0-f106384755da",
        "colab": {
          "base_uri": "https://localhost:8080/",
          "height": 122
        }
      },
      "cell_type": "code",
      "source": [
        "drive.mount('/content/drive/')"
      ],
      "execution_count": 0,
      "outputs": [
        {
          "output_type": "stream",
          "text": [
            "Go to this URL in a browser: https://accounts.google.com/o/oauth2/auth?client_id=947318989803-6bn6qk8qdgf4n4g3pfee6491hc0brc4i.apps.googleusercontent.com&redirect_uri=urn%3Aietf%3Awg%3Aoauth%3A2.0%3Aoob&scope=email%20https%3A%2F%2Fwww.googleapis.com%2Fauth%2Fdocs.test%20https%3A%2F%2Fwww.googleapis.com%2Fauth%2Fdrive%20https%3A%2F%2Fwww.googleapis.com%2Fauth%2Fdrive.photos.readonly%20https%3A%2F%2Fwww.googleapis.com%2Fauth%2Fpeopleapi.readonly&response_type=code\n",
            "\n",
            "Enter your authorization code:\n",
            "··········\n",
            "Mounted at /content/drive/\n"
          ],
          "name": "stdout"
        }
      ]
    },
    {
      "metadata": {
        "id": "AeP6NTxQi2aJ",
        "colab_type": "code",
        "outputId": "8a829dae-db67-438e-e667-282411a10e70",
        "colab": {
          "base_uri": "https://localhost:8080/",
          "height": 34
        }
      },
      "cell_type": "code",
      "source": [
        "!ls '/content/drive/My Drive/Assignment/'"
      ],
      "execution_count": 0,
      "outputs": [
        {
          "output_type": "stream",
          "text": [
            "practice_assign2.ipynb\tpractise_assign.ipynb\n"
          ],
          "name": "stdout"
        }
      ]
    },
    {
      "metadata": {
        "id": "7ds3dtXmutUY",
        "colab_type": "text"
      },
      "cell_type": "markdown",
      "source": [
        "### now define which type of estimator you want.here i am using DNN-Classifier to recognize digits"
      ]
    },
    {
      "metadata": {
        "id": "pZf1fzOdL6PZ",
        "colab_type": "code",
        "outputId": "f4a3876d-7ba6-4653-9816-df4deb842413",
        "colab": {
          "base_uri": "https://localhost:8080/",
          "height": 173
        }
      },
      "cell_type": "code",
      "source": [
        "model = tf.estimator.DNNClassifier(feature_columns=feature_columns,\n",
        "                                   \n",
        "                                   hidden_units=num_hidden_units,\n",
        "                                   \n",
        "                                   activation_fn=tf.nn.relu,\n",
        "                                   \n",
        "                                   n_classes=num_classes,\n",
        "                                   \n",
        "                                   model_dir='/content/drive/My Drive/Assignment/')"
      ],
      "execution_count": 0,
      "outputs": [
        {
          "output_type": "stream",
          "text": [
            "INFO:tensorflow:Using default config.\n",
            "INFO:tensorflow:Using config: {'_model_dir': '/content/drive/My Drive/Assignment/', '_tf_random_seed': None, '_save_summary_steps': 100, '_save_checkpoints_steps': None, '_save_checkpoints_secs': 600, '_session_config': allow_soft_placement: true\n",
            "graph_options {\n",
            "  rewrite_options {\n",
            "    meta_optimizer_iterations: ONE\n",
            "  }\n",
            "}\n",
            ", '_keep_checkpoint_max': 5, '_keep_checkpoint_every_n_hours': 10000, '_log_step_count_steps': 100, '_train_distribute': None, '_device_fn': None, '_protocol': None, '_eval_distribute': None, '_experimental_distribute': None, '_service': None, '_cluster_spec': <tensorflow.python.training.server_lib.ClusterSpec object at 0x7f6868ea3f98>, '_task_type': 'worker', '_task_id': 0, '_global_id_in_cluster': 0, '_master': '', '_evaluation_master': '', '_is_chief': True, '_num_ps_replicas': 0, '_num_worker_replicas': 1}\n"
          ],
          "name": "stdout"
        }
      ]
    },
    {
      "metadata": {
        "id": "8k4U6pDseLmo",
        "colab_type": "text"
      },
      "cell_type": "markdown",
      "source": [
        "### Now training the Model with epochs /steps ==2000"
      ]
    },
    {
      "metadata": {
        "id": "UTnuFijzc1mI",
        "colab_type": "code",
        "outputId": "d5dfa8ec-b4d1-4056-85c4-4e5e4b8dd42c",
        "colab": {
          "base_uri": "https://localhost:8080/",
          "height": 1125
        }
      },
      "cell_type": "code",
      "source": [
        "model.train(\n",
        "    input_fn= train_input_fn, steps=2000)"
      ],
      "execution_count": 0,
      "outputs": [
        {
          "output_type": "stream",
          "text": [
            "WARNING:tensorflow:From /usr/local/lib/python3.6/dist-packages/tensorflow/python/framework/op_def_library.py:263: colocate_with (from tensorflow.python.framework.ops) is deprecated and will be removed in a future version.\n",
            "Instructions for updating:\n",
            "Colocations handled automatically by placer.\n",
            "WARNING:tensorflow:From /usr/local/lib/python3.6/dist-packages/tensorflow_estimator/python/estimator/inputs/queues/feeding_queue_runner.py:62: QueueRunner.__init__ (from tensorflow.python.training.queue_runner_impl) is deprecated and will be removed in a future version.\n",
            "Instructions for updating:\n",
            "To construct input pipelines, use the `tf.data` module.\n",
            "WARNING:tensorflow:From /usr/local/lib/python3.6/dist-packages/tensorflow_estimator/python/estimator/inputs/queues/feeding_functions.py:500: add_queue_runner (from tensorflow.python.training.queue_runner_impl) is deprecated and will be removed in a future version.\n",
            "Instructions for updating:\n",
            "To construct input pipelines, use the `tf.data` module.\n",
            "INFO:tensorflow:Calling model_fn.\n",
            "WARNING:tensorflow:From /usr/local/lib/python3.6/dist-packages/tensorflow/python/feature_column/feature_column_v2.py:2703: to_float (from tensorflow.python.ops.math_ops) is deprecated and will be removed in a future version.\n",
            "Instructions for updating:\n",
            "Use tf.cast instead.\n",
            "INFO:tensorflow:Done calling model_fn.\n",
            "INFO:tensorflow:Create CheckpointSaverHook.\n",
            "INFO:tensorflow:Graph was finalized.\n",
            "INFO:tensorflow:Running local_init_op.\n",
            "INFO:tensorflow:Done running local_init_op.\n",
            "WARNING:tensorflow:From /usr/local/lib/python3.6/dist-packages/tensorflow/python/training/monitored_session.py:809: start_queue_runners (from tensorflow.python.training.queue_runner_impl) is deprecated and will be removed in a future version.\n",
            "Instructions for updating:\n",
            "To construct input pipelines, use the `tf.data` module.\n",
            "INFO:tensorflow:Saving checkpoints for 0 into /content/drive/My Drive/Assignment/model.ckpt.\n",
            "INFO:tensorflow:loss = 295.4547, step = 1\n",
            "INFO:tensorflow:global_step/sec: 84.4656\n",
            "INFO:tensorflow:loss = 50.9886, step = 101 (1.193 sec)\n",
            "INFO:tensorflow:global_step/sec: 81.7915\n",
            "INFO:tensorflow:loss = 48.11722, step = 201 (1.217 sec)\n",
            "INFO:tensorflow:global_step/sec: 80.37\n",
            "INFO:tensorflow:loss = 26.792118, step = 301 (1.244 sec)\n",
            "INFO:tensorflow:global_step/sec: 79.9467\n",
            "INFO:tensorflow:loss = 16.479588, step = 401 (1.250 sec)\n",
            "INFO:tensorflow:global_step/sec: 77.6195\n",
            "INFO:tensorflow:loss = 5.9998245, step = 501 (1.293 sec)\n",
            "INFO:tensorflow:global_step/sec: 75.4471\n",
            "INFO:tensorflow:loss = 11.294722, step = 601 (1.321 sec)\n",
            "INFO:tensorflow:global_step/sec: 73.2915\n",
            "INFO:tensorflow:loss = 21.204824, step = 701 (1.365 sec)\n",
            "INFO:tensorflow:global_step/sec: 76.314\n",
            "INFO:tensorflow:loss = 9.09411, step = 801 (1.310 sec)\n",
            "INFO:tensorflow:global_step/sec: 75.6538\n",
            "INFO:tensorflow:loss = 12.483467, step = 901 (1.321 sec)\n",
            "INFO:tensorflow:global_step/sec: 77.5127\n",
            "INFO:tensorflow:loss = 8.270593, step = 1001 (1.290 sec)\n",
            "INFO:tensorflow:global_step/sec: 75.7291\n",
            "INFO:tensorflow:loss = 4.6415286, step = 1101 (1.320 sec)\n",
            "INFO:tensorflow:global_step/sec: 76.002\n",
            "INFO:tensorflow:loss = 9.838367, step = 1201 (1.319 sec)\n",
            "INFO:tensorflow:global_step/sec: 75.9444\n",
            "INFO:tensorflow:loss = 6.7190285, step = 1301 (1.313 sec)\n",
            "INFO:tensorflow:global_step/sec: 75.0472\n",
            "INFO:tensorflow:loss = 3.2049572, step = 1401 (1.336 sec)\n",
            "INFO:tensorflow:global_step/sec: 76.167\n",
            "INFO:tensorflow:loss = 5.785407, step = 1501 (1.313 sec)\n",
            "INFO:tensorflow:global_step/sec: 74.9543\n",
            "INFO:tensorflow:loss = 3.6449645, step = 1601 (1.332 sec)\n",
            "INFO:tensorflow:global_step/sec: 76.3409\n",
            "INFO:tensorflow:loss = 4.213295, step = 1701 (1.313 sec)\n",
            "INFO:tensorflow:global_step/sec: 76.2542\n",
            "INFO:tensorflow:loss = 5.5048847, step = 1801 (1.312 sec)\n",
            "INFO:tensorflow:global_step/sec: 76.3099\n",
            "INFO:tensorflow:loss = 2.4404254, step = 1901 (1.310 sec)\n",
            "INFO:tensorflow:Saving checkpoints for 2000 into /content/drive/My Drive/Assignment/model.ckpt.\n",
            "INFO:tensorflow:Loss for final step: 7.9459615.\n"
          ],
          "name": "stdout"
        },
        {
          "output_type": "execute_result",
          "data": {
            "text/plain": [
              "<tensorflow_estimator.python.estimator.canned.dnn.DNNClassifier at 0x7f6868ea3e80>"
            ]
          },
          "metadata": {
            "tags": []
          },
          "execution_count": 22
        }
      ]
    },
    {
      "metadata": {
        "id": "u1Unwr2FenrN",
        "colab_type": "text"
      },
      "cell_type": "markdown",
      "source": [
        "### our model trained well ...! Now evaluate model  for accuracy measure. to check the accuracy we need to call the test-data to our input function .Here i am doing that."
      ]
    },
    {
      "metadata": {
        "id": "swzMKHewc1o5",
        "colab_type": "code",
        "colab": {}
      },
      "cell_type": "code",
      "source": [
        "test_input_fn  = tf.estimator.inputs.numpy_input_fn(\n",
        "    \n",
        "    x={\"x\": np.array(mnist.test.images)},\n",
        "    \n",
        "    y=np.array(mnist.test.cls),\n",
        "    \n",
        "    num_epochs=1,\n",
        "    \n",
        "    shuffle=False)"
      ],
      "execution_count": 0,
      "outputs": []
    },
    {
      "metadata": {
        "id": "YdOVthgPc1sN",
        "colab_type": "code",
        "outputId": "c1495517-56e5-4693-9293-09331d5da984",
        "colab": {
          "base_uri": "https://localhost:8080/",
          "height": 258
        }
      },
      "cell_type": "code",
      "source": [
        "result = model.evaluate(input_fn=test_input_fn)\n"
      ],
      "execution_count": 0,
      "outputs": [
        {
          "output_type": "stream",
          "text": [
            "INFO:tensorflow:Calling model_fn.\n",
            "INFO:tensorflow:Done calling model_fn.\n",
            "INFO:tensorflow:Starting evaluation at 2019-03-14T04:37:23Z\n",
            "INFO:tensorflow:Graph was finalized.\n",
            "WARNING:tensorflow:From /usr/local/lib/python3.6/dist-packages/tensorflow/python/training/saver.py:1266: checkpoint_exists (from tensorflow.python.training.checkpoint_management) is deprecated and will be removed in a future version.\n",
            "Instructions for updating:\n",
            "Use standard file APIs to check for files with this prefix.\n",
            "INFO:tensorflow:Restoring parameters from /content/drive/My Drive/Assignment/model.ckpt-2000\n",
            "INFO:tensorflow:Running local_init_op.\n",
            "INFO:tensorflow:Done running local_init_op.\n",
            "INFO:tensorflow:Finished evaluation at 2019-03-14-04:37:24\n",
            "INFO:tensorflow:Saving dict for global step 2000: accuracy = 0.9706, average_loss = 0.09915525, global_step = 2000, loss = 12.551297\n",
            "INFO:tensorflow:Saving 'checkpoint_path' summary for global step 2000: /content/drive/My Drive/Assignment/model.ckpt-2000\n"
          ],
          "name": "stdout"
        }
      ]
    },
    {
      "metadata": {
        "id": "rMKmvRdFc1vk",
        "colab_type": "code",
        "outputId": "436b9c3f-c0aa-41fa-98c0-95ed3344431f",
        "colab": {
          "base_uri": "https://localhost:8080/",
          "height": 85
        }
      },
      "cell_type": "code",
      "source": [
        "result"
      ],
      "execution_count": 0,
      "outputs": [
        {
          "output_type": "execute_result",
          "data": {
            "text/plain": [
              "{'accuracy': 0.9706,\n",
              " 'average_loss': 0.09915525,\n",
              " 'global_step': 2000,\n",
              " 'loss': 12.551297}"
            ]
          },
          "metadata": {
            "tags": []
          },
          "execution_count": 26
        }
      ]
    },
    {
      "metadata": {
        "id": "66iVs7sgc1yf",
        "colab_type": "code",
        "outputId": "54e3aa80-1a78-438f-a83c-98022edddca4",
        "colab": {
          "base_uri": "https://localhost:8080/",
          "height": 34
        }
      },
      "cell_type": "code",
      "source": [
        "print(\"Classification accuracy: {0:.2%}\".format(result[\"accuracy\"]))"
      ],
      "execution_count": 0,
      "outputs": [
        {
          "output_type": "stream",
          "text": [
            "Classification accuracy: 97.06%\n"
          ],
          "name": "stdout"
        }
      ]
    },
    {
      "metadata": {
        "id": "5PpiKdHOfFy3",
        "colab_type": "text"
      },
      "cell_type": "markdown",
      "source": [
        "## now make predictions on unseen images"
      ]
    },
    {
      "metadata": {
        "id": "57aC85jRc11a",
        "colab_type": "code",
        "outputId": "0fcdba58-a49b-45b8-a67a-720f078babf4",
        "colab": {
          "base_uri": "https://localhost:8080/",
          "height": 34
        }
      },
      "cell_type": "code",
      "source": [
        "some_images = mnist.test.images[0:9]\n",
        "expected = np.argmax(mnist.test.labels[0:9], axis=1)\n",
        "expected"
      ],
      "execution_count": 0,
      "outputs": [
        {
          "output_type": "execute_result",
          "data": {
            "text/plain": [
              "array([7, 2, 1, 0, 4, 1, 4, 9, 5])"
            ]
          },
          "metadata": {
            "tags": []
          },
          "execution_count": 28
        }
      ]
    },
    {
      "metadata": {
        "id": "qygESqQkc14D",
        "colab_type": "code",
        "colab": {}
      },
      "cell_type": "code",
      "source": [
        "predict_input_fn = tf.estimator.inputs.numpy_input_fn(\n",
        "    \n",
        "    x={\"x\": some_images},\n",
        "    \n",
        "    num_epochs=1,\n",
        "    \n",
        "    shuffle=False)"
      ],
      "execution_count": 0,
      "outputs": []
    },
    {
      "metadata": {
        "id": "aNi6is7pL6Tm",
        "colab_type": "code",
        "colab": {}
      },
      "cell_type": "code",
      "source": [
        "predictions = model.predict(input_fn=predict_input_fn)"
      ],
      "execution_count": 0,
      "outputs": []
    },
    {
      "metadata": {
        "id": "H1d4o3YnL6Wb",
        "colab_type": "code",
        "outputId": "bfe1ff35-6263-45e1-98a6-e749c34a352c",
        "colab": {
          "base_uri": "https://localhost:8080/",
          "height": 119
        }
      },
      "cell_type": "code",
      "source": [
        "cls_pred = np.array(list(predictions))"
      ],
      "execution_count": 0,
      "outputs": [
        {
          "output_type": "stream",
          "text": [
            "INFO:tensorflow:Calling model_fn.\n",
            "INFO:tensorflow:Done calling model_fn.\n",
            "INFO:tensorflow:Graph was finalized.\n",
            "INFO:tensorflow:Restoring parameters from /content/drive/My Drive/Assignment/model.ckpt-2000\n",
            "INFO:tensorflow:Running local_init_op.\n",
            "INFO:tensorflow:Done running local_init_op.\n"
          ],
          "name": "stdout"
        }
      ]
    },
    {
      "metadata": {
        "id": "ZjGBDdHVL6Zs",
        "colab_type": "code",
        "outputId": "0193ef87-364a-4a0a-b78c-f86effdce5e5",
        "colab": {
          "base_uri": "https://localhost:8080/",
          "height": 323
        }
      },
      "cell_type": "code",
      "source": [
        "template = ('\\nPrediction is \"{}\" ({:.1f}%), expected \"{}\"')\n",
        "\n",
        "for pred_dict, expec in zip(cls_pred, expected):\n",
        "    class_id = pred_dict['class_ids'][0]\n",
        "    probability = pred_dict['probabilities'][class_id]\n",
        "\n",
        "    print(template.format(class_id,100 * probability, expec))"
      ],
      "execution_count": 0,
      "outputs": [
        {
          "output_type": "stream",
          "text": [
            "\n",
            "Prediction is \"7\" (100.0%), expected \"7\"\n",
            "\n",
            "Prediction is \"2\" (100.0%), expected \"2\"\n",
            "\n",
            "Prediction is \"1\" (100.0%), expected \"1\"\n",
            "\n",
            "Prediction is \"0\" (99.9%), expected \"0\"\n",
            "\n",
            "Prediction is \"4\" (99.7%), expected \"4\"\n",
            "\n",
            "Prediction is \"1\" (100.0%), expected \"1\"\n",
            "\n",
            "Prediction is \"4\" (99.9%), expected \"4\"\n",
            "\n",
            "Prediction is \"9\" (96.5%), expected \"9\"\n",
            "\n",
            "Prediction is \"4\" (78.2%), expected \"5\"\n"
          ],
          "name": "stdout"
        }
      ]
    },
    {
      "metadata": {
        "id": "1HUEAl6igeaz",
        "colab_type": "code",
        "colab": {}
      },
      "cell_type": "code",
      "source": [
        ""
      ],
      "execution_count": 0,
      "outputs": []
    },
    {
      "metadata": {
        "id": "TCd-xtd6geeE",
        "colab_type": "code",
        "colab": {}
      },
      "cell_type": "code",
      "source": [
        ""
      ],
      "execution_count": 0,
      "outputs": []
    },
    {
      "metadata": {
        "id": "DxvH22UBgehN",
        "colab_type": "code",
        "colab": {}
      },
      "cell_type": "code",
      "source": [
        ""
      ],
      "execution_count": 0,
      "outputs": []
    },
    {
      "metadata": {
        "id": "D-zAktIXgekK",
        "colab_type": "code",
        "colab": {}
      },
      "cell_type": "code",
      "source": [
        ""
      ],
      "execution_count": 0,
      "outputs": []
    },
    {
      "metadata": {
        "id": "TUBsfmSBgenA",
        "colab_type": "code",
        "colab": {}
      },
      "cell_type": "code",
      "source": [
        ""
      ],
      "execution_count": 0,
      "outputs": []
    },
    {
      "metadata": {
        "id": "VbPCEh7Ggepr",
        "colab_type": "code",
        "colab": {}
      },
      "cell_type": "code",
      "source": [
        ""
      ],
      "execution_count": 0,
      "outputs": []
    },
    {
      "metadata": {
        "id": "Q-wDfn5sges8",
        "colab_type": "code",
        "colab": {}
      },
      "cell_type": "code",
      "source": [
        ""
      ],
      "execution_count": 0,
      "outputs": []
    }
  ]
}